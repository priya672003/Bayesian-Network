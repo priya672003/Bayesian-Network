{
 "cells": [
  {
   "cell_type": "code",
   "execution_count": 2,
   "id": "6036a02a",
   "metadata": {},
   "outputs": [
    {
     "name": "stdout",
     "output_type": "stream",
     "text": [
      "Requirement already satisfied: pybbn in e:\\anaconda\\lib\\site-packages (3.2.3)\n",
      "Requirement already satisfied: networkx in e:\\anaconda\\lib\\site-packages (from pybbn) (2.6.3)\n",
      "Requirement already satisfied: scipy in e:\\anaconda\\lib\\site-packages (from pybbn) (1.7.1)\n",
      "Requirement already satisfied: numpy in e:\\anaconda\\lib\\site-packages (from pybbn) (1.20.3)\n",
      "Requirement already satisfied: pandas in e:\\anaconda\\lib\\site-packages (from pybbn) (1.3.4)\n",
      "Requirement already satisfied: python-dateutil>=2.7.3 in e:\\anaconda\\lib\\site-packages (from pandas->pybbn) (2.8.2)\n",
      "Requirement already satisfied: pytz>=2017.3 in e:\\anaconda\\lib\\site-packages (from pandas->pybbn) (2021.3)\n",
      "Requirement already satisfied: six>=1.5 in e:\\anaconda\\lib\\site-packages (from python-dateutil>=2.7.3->pandas->pybbn) (1.16.0)\n"
     ]
    }
   ],
   "source": [
    "!pip install pybbn"
   ]
  },
  {
   "cell_type": "code",
   "execution_count": 3,
   "id": "d8637f77",
   "metadata": {},
   "outputs": [],
   "source": [
    "import pandas as pd\n",
    "import networkx as nx\n",
    "import matplotlib.pyplot as plt\n",
    "from pybbn.graph.dag import Bbn\n",
    "from pybbn.graph.edge import Edge, EdgeType\n",
    "from pybbn.graph.jointree import EvidenceBuilder\n",
    "from pybbn.graph.node import BbnNode\n",
    "from pybbn.graph.variable import Variable\n",
    "from pybbn.pptc.inferencecontroller import InferenceController #Set Pandas options to display more columns"
   ]
  },
  {
   "cell_type": "code",
   "execution_count": 4,
   "id": "8b2fb585",
   "metadata": {},
   "outputs": [],
   "source": [
    "pd.options.display.max_columns=50"
   ]
  },
  {
   "cell_type": "code",
   "execution_count": 5,
   "id": "0707529a",
   "metadata": {},
   "outputs": [],
   "source": [
    "df=pd.read_csv('weatherAUS.csv', encoding='utf-8')"
   ]
  },
  {
   "cell_type": "code",
   "execution_count": 6,
   "id": "817b6805",
   "metadata": {},
   "outputs": [],
   "source": [
    "df=df[pd.isnull(df['RainTomorrow'])==False]"
   ]
  },
  {
   "cell_type": "code",
   "execution_count": 7,
   "id": "06742e6f",
   "metadata": {},
   "outputs": [
    {
     "name": "stderr",
     "output_type": "stream",
     "text": [
      "C:\\Users\\priya\\AppData\\Local\\Temp/ipykernel_6472/3358723971.py:1: FutureWarning: Dropping of nuisance columns in DataFrame reductions (with 'numeric_only=None') is deprecated; in a future version this will raise TypeError.  Select only valid columns before calling the reduction.\n",
      "  df=df.fillna(df.mean())\n"
     ]
    }
   ],
   "source": [
    "df=df.fillna(df.mean())"
   ]
  },
  {
   "cell_type": "code",
   "execution_count": 9,
   "id": "d69be2c0",
   "metadata": {},
   "outputs": [],
   "source": [
    "df['WindGustSpeedCat']=df['WindGustSpeed'].apply(lambda x: '0.<=40' if x<=40 else\n",
    "                                                  '1.40-50'  if 40<x<=50 else '2.>50')"
   ]
  },
  {
   "cell_type": "code",
   "execution_count": 10,
   "id": "c8aca30e",
   "metadata": {},
   "outputs": [
    {
     "name": "stderr",
     "output_type": "stream",
     "text": [
      "C:\\Users\\priya\\AppData\\Local\\Temp/ipykernel_6472/3358723971.py:1: FutureWarning: Dropping of nuisance columns in DataFrame reductions (with 'numeric_only=None') is deprecated; in a future version this will raise TypeError.  Select only valid columns before calling the reduction.\n",
      "  df=df.fillna(df.mean())\n"
     ]
    }
   ],
   "source": [
    "df=df.fillna(df.mean())"
   ]
  },
  {
   "cell_type": "code",
   "execution_count": 11,
   "id": "09fb6814",
   "metadata": {},
   "outputs": [],
   "source": [
    "df['WindGustSpeedCat']=df['WindGustSpeed'].apply(lambda x: '0.<=40' if x<=40 else \n",
    "                                                   '1.40-50'  if 40<x<=50 else '2.>50')"
   ]
  },
  {
   "cell_type": "code",
   "execution_count": 12,
   "id": "24108e00",
   "metadata": {},
   "outputs": [],
   "source": [
    "df['Humidity9amCat' ]=df[ 'Humidity9am'].apply(lambda x: '1.>60' if x>60 else '0.<=60')"
   ]
  },
  {
   "cell_type": "code",
   "execution_count": 13,
   "id": "c62d6bd6",
   "metadata": {},
   "outputs": [],
   "source": [
    "df['Humidity3pmCat']=df['Humidity3pm'].apply(lambda x: '1.>60' if x>60 else '0.<=60')"
   ]
  },
  {
   "cell_type": "code",
   "execution_count": 14,
   "id": "b57bb8c0",
   "metadata": {},
   "outputs": [
    {
     "name": "stdout",
     "output_type": "stream",
     "text": [
      "            Date Location  MinTemp  MaxTemp  Rainfall  Evaporation  Sunshine  \\\n",
      "0     2008-12-01   Albury     13.4     22.9       0.6          NaN       NaN   \n",
      "1     2008-12-02   Albury      7.4     25.1       0.0          NaN       NaN   \n",
      "2     2008-12-03   Albury     12.9     25.7       0.0          NaN       NaN   \n",
      "3     2008-12-04   Albury      9.2     28.0       0.0          NaN       NaN   \n",
      "4     2008-12-05   Albury     17.5     32.3       1.0          NaN       NaN   \n",
      "...          ...      ...      ...      ...       ...          ...       ...   \n",
      "1430  2012-11-30   Albury     23.0     34.4       0.0          NaN       NaN   \n",
      "1431  2013-01-01   Albury     12.1     34.5       0.0          NaN       NaN   \n",
      "1432  2013-01-02   Albury     13.8     33.6       0.0          NaN       NaN   \n",
      "1433  2013-01-03   Albury     15.8     36.9       0.0          NaN       NaN   \n",
      "1434  2013-01-04   Albury     18.6     40.7       0.0          NaN       NaN   \n",
      "\n",
      "     WindGustDir  WindGustSpeed WindDir9am WindDir3pm  WindSpeed9am  \\\n",
      "0              W           44.0          W        WNW          20.0   \n",
      "1            WNW           44.0        NNW        WSW           4.0   \n",
      "2            WSW           46.0          W        WSW          19.0   \n",
      "3             NE           24.0         SE          E          11.0   \n",
      "4              W           41.0        ENE         NW           7.0   \n",
      "...          ...            ...        ...        ...           ...   \n",
      "1430          NW           43.0        ENE        WSW           9.0   \n",
      "1431           W           44.0         SE          W           4.0   \n",
      "1432         SSE           28.0        SSW        ESE           9.0   \n",
      "1433           E           22.0          S        SSW           7.0   \n",
      "1434         ENE           44.0        ESE          N           7.0   \n",
      "\n",
      "      WindSpeed3pm  Humidity9am  Humidity3pm  Pressure9am  Pressure3pm  \\\n",
      "0             24.0         71.0         22.0       1007.7       1007.1   \n",
      "1             22.0         44.0         25.0       1010.6       1007.8   \n",
      "2             26.0         38.0         30.0       1007.6       1008.7   \n",
      "3              9.0         45.0         16.0       1017.6       1012.8   \n",
      "4             20.0         82.0         33.0       1010.8       1006.0   \n",
      "...            ...          ...          ...          ...          ...   \n",
      "1430          13.0         53.0         46.0       1010.4       1011.0   \n",
      "1431          22.0         49.0         16.0       1012.8       1009.3   \n",
      "1432          11.0         48.0         17.0       1012.2       1010.9   \n",
      "1433          11.0         32.0         20.0       1015.8       1011.9   \n",
      "1434          24.0         44.0         12.0       1012.3       1008.1   \n",
      "\n",
      "      Cloud9am  Cloud3pm  Temp9am  Temp3pm RainToday RainTomorrow  \\\n",
      "0     8.000000  5.429542     16.9     21.8        No           No   \n",
      "1     6.386121  5.429542     17.2     24.3        No           No   \n",
      "2     6.386121  2.000000     21.0     23.2        No           No   \n",
      "3     6.386121  5.429542     18.1     26.5        No           No   \n",
      "4     7.000000  8.000000     17.8     29.7        No           No   \n",
      "...        ...       ...      ...      ...       ...          ...   \n",
      "1430  6.386121  5.000000     29.5     31.1        No           No   \n",
      "1431  6.386121  5.429542     22.3     32.7        No           No   \n",
      "1432  6.386121  5.429542     21.4     31.2        No           No   \n",
      "1433  6.386121  5.429542     23.6     33.9        No           No   \n",
      "1434  6.386121  5.429542     27.8     39.3        No           No   \n",
      "\n",
      "     WindGustSpeedCat Humidity9amCat Humidity3pmCat  \n",
      "0             1.40-50          1.>60         0.<=60  \n",
      "1             1.40-50         0.<=60         0.<=60  \n",
      "2             1.40-50         0.<=60         0.<=60  \n",
      "3              0.<=40         0.<=60         0.<=60  \n",
      "4             1.40-50          1.>60         0.<=60  \n",
      "...               ...            ...            ...  \n",
      "1430          1.40-50         0.<=60         0.<=60  \n",
      "1431          1.40-50         0.<=60         0.<=60  \n",
      "1432           0.<=40         0.<=60         0.<=60  \n",
      "1433           0.<=40         0.<=60         0.<=60  \n",
      "1434          1.40-50         0.<=60         0.<=60  \n",
      "\n",
      "[1420 rows x 26 columns]\n"
     ]
    }
   ],
   "source": [
    "print(df)"
   ]
  },
  {
   "cell_type": "code",
   "execution_count": 15,
   "id": "c22534db",
   "metadata": {},
   "outputs": [],
   "source": [
    "def probs(data, child, parent1=None, parent2=None):\n",
    "  if parent1==None:\n",
    "    prob=pd.crosstab(data[child],'Empty', margins=False, normalize='columns').sort_index().to_numpy().reshape(-1).tolist()\n",
    "  elif parent1!=None:\n",
    "    if parent2==None:\n",
    "      prob=pd.crosstab(data[parent1],data[child], margins=False, normalize='index').sort_index().to_numpy().reshape(-1).tolist()\n",
    "    else:\n",
    "      prob=pd. crosstab([data[parent1], data[parent2]],data[child], margins=False, normalize='index').sort_index().to_numpy().reshape(-1).tolist()\n",
    "  else: print(\"Error in Probability Frequency Calculations\")\n",
    "  return prob"
   ]
  },
  {
   "cell_type": "code",
   "execution_count": 16,
   "id": "e826c6b1",
   "metadata": {},
   "outputs": [],
   "source": [
    "H9am = BbnNode(Variable(0, 'H9am', ['<=60', '>60']), probs(df, child='Humidity9amCat'))"
   ]
  },
  {
   "cell_type": "code",
   "execution_count": 17,
   "id": "a114ff63",
   "metadata": {},
   "outputs": [],
   "source": [
    "H3pm = BbnNode(Variable(1, 'H3pm', ['<=60', '>60']), probs(df, child= 'Humidity3pmCat', parent1='Humidity9amCat'))"
   ]
  },
  {
   "cell_type": "code",
   "execution_count": 18,
   "id": "07e76e46",
   "metadata": {},
   "outputs": [],
   "source": [
    "W =BbnNode(Variable(2, 'W', ['<=40', '40-50', '>50']), probs(df, child='WindGustSpeedCat'))"
   ]
  },
  {
   "cell_type": "code",
   "execution_count": 19,
   "id": "95985bb1",
   "metadata": {},
   "outputs": [],
   "source": [
    "RT = BbnNode(Variable(3, 'RT', ['No', 'Yes']), probs(df, child='RainTomorrow', parent1='Humidity3pmCat', parent2='WindGustSpeedCat'))"
   ]
  },
  {
   "cell_type": "code",
   "execution_count": 20,
   "id": "c18ee5da",
   "metadata": {},
   "outputs": [],
   "source": [
    "bbn= Bbn() \\\n",
    "  .add_node(H9am) \\\n",
    "  .add_node(H3pm) \\\n",
    "  .add_node(W) \\\n",
    "  .add_node(RT) \\\n",
    "  .add_edge(Edge(H9am,H3pm, EdgeType.DIRECTED)) \\\n",
    "  .add_edge(Edge(H3pm, RT, EdgeType.DIRECTED)) \\\n",
    "  .add_edge(Edge(W,RT, EdgeType.DIRECTED))"
   ]
  },
  {
   "cell_type": "code",
   "execution_count": 21,
   "id": "c9a5f89b",
   "metadata": {},
   "outputs": [
    {
     "data": {
      "image/png": "[encoded data removed]",
      "text/plain": [
       "<Figure size 432x288 with 1 Axes>"
      ]
     },
     "metadata": {},
     "output_type": "display_data"
    }
   ],
   "source": [
    "join_tree =InferenceController.apply(bbn)\n",
    "pos={0: (-1,-2), 1: (-1, 0.5), 2: (1, 0.5), 3:(0,-1)}\n",
    "options ={\n",
    "\"font_size\": 16,\n",
    "\"node_size\": 4000,\n",
    "\"node_color\": \"white\",\n",
    "\"edgecolors\": \"blue\",\n",
    "\"edge_color\": \"red\",\n",
    "\"linewidths\": 5,\n",
    "\"width\": 5,\n",
    "}\n",
    "n,d=bbn.to_nx_graph()\n",
    "nx.draw(n, with_labels=True,labels=d, pos=pos, **options)\n",
    "\n",
    "ax=plt.gca()\n",
    "ax.margins (0.20)\n",
    "plt.axis(\"off\")\n",
    "plt.show()"
   ]
  },
  {
   "cell_type": "code",
   "execution_count": null,
   "id": "5bb2b70d",
   "metadata": {},
   "outputs": [],
   "source": []
  }
 ],
 "metadata": {
  "kernelspec": {
   "display_name": "Python 3 (ipykernel)",
   "language": "python",
   "name": "python3"
  },
  "language_info": {
   "codemirror_mode": {
    "name": "ipython",
    "version": 3
   },
   "file_extension": ".py",
   "mimetype": "text/x-python",
   "name": "python",
   "nbconvert_exporter": "python",
   "pygments_lexer": "ipython3",
   "version": "3.9.7"
  }
 },
 "nbformat": 4,
 "nbformat_minor": 5
}
